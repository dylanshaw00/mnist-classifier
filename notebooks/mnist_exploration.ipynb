{
 "cells": [
  {
   "cell_type": "markdown",
   "id": "e0eeb891",
   "metadata": {},
   "source": [
    "In this notebook we are going to explore some different neural network architectures, to train an image classifier"
   ]
  },
  {
   "cell_type": "markdown",
   "id": "e221e5c2",
   "metadata": {},
   "source": [
    "We will first read our data into a pandas dataframe"
   ]
  },
  {
   "cell_type": "code",
   "execution_count": 189,
   "id": "b1159e8b",
   "metadata": {},
   "outputs": [],
   "source": [
    "import pandas as pd\n",
    "import numpy as np\n",
    "from matplotlib import pyplot as plt"
   ]
  },
  {
   "cell_type": "code",
   "execution_count": 180,
   "id": "ea4a6431",
   "metadata": {},
   "outputs": [],
   "source": [
    "data = pd.read_csv(r'C:\\Users\\diddy\\projects\\mnist_classifier\\data\\mnist\\mnist.csv')\n"
   ]
  },
  {
   "cell_type": "code",
   "execution_count": 181,
   "id": "7f57574d",
   "metadata": {},
   "outputs": [
    {
     "name": "stdout",
     "output_type": "stream",
     "text": [
      "   label  1x1  1x2  1x3  1x4  1x5  1x6  1x7  1x8  1x9  ...  28x19  28x20  \\\n",
      "0      5    0    0    0    0    0    0    0    0    0  ...      0      0   \n",
      "1      0    0    0    0    0    0    0    0    0    0  ...      0      0   \n",
      "2      4    0    0    0    0    0    0    0    0    0  ...      0      0   \n",
      "3      1    0    0    0    0    0    0    0    0    0  ...      0      0   \n",
      "4      9    0    0    0    0    0    0    0    0    0  ...      0      0   \n",
      "\n",
      "   28x21  28x22  28x23  28x24  28x25  28x26  28x27  28x28  \n",
      "0      0      0      0      0      0      0      0      0  \n",
      "1      0      0      0      0      0      0      0      0  \n",
      "2      0      0      0      0      0      0      0      0  \n",
      "3      0      0      0      0      0      0      0      0  \n",
      "4      0      0      0      0      0      0      0      0  \n",
      "\n",
      "[5 rows x 785 columns]\n",
      "(60000, 785)\n"
     ]
    }
   ],
   "source": [
    "print(data.head())\n",
    "print(data.shape)"
   ]
  },
  {
   "cell_type": "code",
   "execution_count": 182,
   "id": "3107bdb6",
   "metadata": {},
   "outputs": [],
   "source": [
    "data = np.array(data)\n",
    "m, n = data.shape\n",
    "np.random.shuffle(data) # shuffle before splitting into dev and training sets\n",
    "\n",
    "data_dev = data[0:1000].T\n",
    "Y_dev = data_dev[0]\n",
    "X_dev = data_dev[1:n]\n",
    "X_dev = X_dev / 255.\n",
    "\n",
    "data_train = data[1000:m].T\n",
    "Y_train = data_train[0]\n",
    "X_train = data_train[1:n]\n",
    "X_train = X_train / 255.\n",
    "_,m_train = X_train.shape\n",
    "\n",
    "\n"
   ]
  },
  {
   "cell_type": "code",
   "execution_count": 183,
   "id": "62d28afa",
   "metadata": {},
   "outputs": [],
   "source": [
    "def init_params():\n",
    "    W1 = np.random.rand(10, 784) - 0.5\n",
    "    b1 = np.random.rand(10, 1) - 0.5\n",
    "    W2 = np.random.rand(10, 10) - 0.5\n",
    "    b2 = np.random.rand(10, 1) - 0.5\n",
    "    return W1, b1, W2, b2\n",
    "\n",
    "def ReLU(Z):\n",
    "    return np.maximum(Z, 0)\n",
    "\n",
    "def softmax(Z):\n",
    "    A = np.exp(Z) / sum(np.exp(Z))\n",
    "    return A\n",
    "    \n",
    "def forward_prop(W1, b1, W2, b2, X):\n",
    "    Z1 = W1.dot(X) + b1\n",
    "    A1 = ReLU(Z1)\n",
    "    Z2 = W2.dot(A1) + b2\n",
    "    A2 = softmax(Z2)\n",
    "    return Z1, A1, Z2, A2\n",
    "\n",
    "def ReLU_deriv(Z):\n",
    "    return Z > 0\n",
    "\n",
    "def one_hot(Y):\n",
    "    one_hot_Y = np.zeros((Y.size, Y.max() + 1))\n",
    "    one_hot_Y[np.arange(Y.size), Y] = 1\n",
    "    one_hot_Y = one_hot_Y.T\n",
    "    return one_hot_Y\n",
    "\n",
    "def backward_prop(Z1, A1, Z2, A2, W1, W2, X, Y):\n",
    "    one_hot_Y = one_hot(Y)\n",
    "    dZ2 = A2 - one_hot_Y\n",
    "    dW2 = 1 / m * dZ2.dot(A1.T)\n",
    "    db2 = 1 / m * np.sum(dZ2)\n",
    "    dZ1 = W2.T.dot(dZ2) * ReLU_deriv(Z1)\n",
    "    dW1 = 1 / m * dZ1.dot(X.T)\n",
    "    db1 = 1 / m * np.sum(dZ1)\n",
    "    return dW1, db1, dW2, db2\n",
    "\n",
    "def update_params(W1, b1, W2, b2, dW1, db1, dW2, db2, alpha):\n",
    "    W1 = W1 - alpha * dW1\n",
    "    b1 = b1 - alpha * db1    \n",
    "    W2 = W2 - alpha * dW2  \n",
    "    b2 = b2 - alpha * db2    \n",
    "    return W1, b1, W2, b2"
   ]
  },
  {
   "cell_type": "markdown",
   "id": "e23ce678",
   "metadata": {},
   "source": [
    "So, our data contains a matrix labelled data of handwritten digits and a greyscale pixel value for each of the pixels in the 28x28 grid. "
   ]
  },
  {
   "cell_type": "markdown",
   "id": "491113bb",
   "metadata": {},
   "source": [
    "so, now we want to code the forward propogation part of our neural network. we will initilaize all of the weights and biases used in the network"
   ]
  },
  {
   "cell_type": "code",
   "execution_count": 184,
   "id": "96c72d72",
   "metadata": {},
   "outputs": [],
   "source": [
    "def get_predictions(A2):\n",
    "    return np.argmax(A2, 0)\n",
    "\n",
    "def get_accuracy(predictions, Y):\n",
    "    print(predictions, Y)\n",
    "    return np.sum(predictions == Y) / Y.size\n",
    "\n",
    "def gradient_descent(X, Y, alpha, iterations):\n",
    "    W1, b1, W2, b2 = init_params()\n",
    "    for i in range(iterations):\n",
    "        Z1, A1, Z2, A2 = forward_prop(W1, b1, W2, b2, X)\n",
    "        dW1, db1, dW2, db2 = backward_prop(Z1, A1, Z2, A2, W1, W2, X, Y)\n",
    "        W1, b1, W2, b2 = update_params(W1, b1, W2, b2, dW1, db1, dW2, db2, alpha)\n",
    "        if i % 10 == 0:\n",
    "            print(\"Iteration: \", i)\n",
    "            predictions = get_predictions(A2)\n",
    "            print(get_accuracy(predictions, Y))\n",
    "    return W1, b1, W2, b2\n",
    "\n",
    "\n",
    "\n"
   ]
  },
  {
   "cell_type": "code",
   "execution_count": 185,
   "id": "0ab6a071",
   "metadata": {},
   "outputs": [
    {
     "name": "stdout",
     "output_type": "stream",
     "text": [
      "X_train shape: (784, 59000)\n",
      "Y_train shape: (59000,)\n",
      "First 10 Y_train values: [4 0 6 6 3 8 6 0 8 2]\n"
     ]
    }
   ],
   "source": [
    "print(\"X_train shape:\", X_train.shape)\n",
    "print(\"Y_train shape:\", Y_train.shape)\n",
    "print(\"First 10 Y_train values:\", Y_train[:10])\n"
   ]
  },
  {
   "cell_type": "code",
   "execution_count": null,
   "id": "593cfd2c",
   "metadata": {},
   "outputs": [],
   "source": []
  },
  {
   "cell_type": "code",
   "execution_count": 186,
   "id": "45a880ad",
   "metadata": {},
   "outputs": [
    {
     "name": "stdout",
     "output_type": "stream",
     "text": [
      "Iteration:  0\n",
      "[6 6 8 ... 6 6 6] [4 0 6 ... 3 6 2]\n",
      "0.12686440677966102\n",
      "Iteration:  10\n",
      "[2 4 3 ... 3 3 5] [4 0 6 ... 3 6 2]\n",
      "0.1716271186440678\n",
      "Iteration:  20\n",
      "[0 4 3 ... 3 3 4] [4 0 6 ... 3 6 2]\n",
      "0.26920338983050845\n",
      "Iteration:  30\n",
      "[0 0 3 ... 3 3 4] [4 0 6 ... 3 6 2]\n",
      "0.34376271186440677\n",
      "Iteration:  40\n",
      "[0 0 3 ... 3 3 4] [4 0 6 ... 3 6 2]\n",
      "0.397271186440678\n",
      "Iteration:  50\n",
      "[4 0 1 ... 3 6 8] [4 0 6 ... 3 6 2]\n",
      "0.4441864406779661\n",
      "Iteration:  60\n",
      "[4 0 1 ... 3 6 8] [4 0 6 ... 3 6 2]\n",
      "0.4820847457627119\n",
      "Iteration:  70\n",
      "[4 0 1 ... 3 6 8] [4 0 6 ... 3 6 2]\n",
      "0.5145762711864407\n",
      "Iteration:  80\n",
      "[4 0 1 ... 3 6 8] [4 0 6 ... 3 6 2]\n",
      "0.5438135593220339\n",
      "Iteration:  90\n",
      "[4 0 3 ... 3 6 8] [4 0 6 ... 3 6 2]\n",
      "0.5682542372881356\n",
      "Iteration:  100\n",
      "[4 0 3 ... 3 6 8] [4 0 6 ... 3 6 2]\n",
      "0.5923728813559322\n",
      "Iteration:  110\n",
      "[4 0 6 ... 3 6 8] [4 0 6 ... 3 6 2]\n",
      "0.6140508474576272\n",
      "Iteration:  120\n",
      "[4 0 6 ... 3 6 8] [4 0 6 ... 3 6 2]\n",
      "0.6327627118644068\n",
      "Iteration:  130\n",
      "[4 0 6 ... 3 6 8] [4 0 6 ... 3 6 2]\n",
      "0.6509661016949152\n",
      "Iteration:  140\n",
      "[4 0 6 ... 3 6 8] [4 0 6 ... 3 6 2]\n",
      "0.6658135593220339\n",
      "Iteration:  150\n",
      "[4 0 6 ... 3 6 8] [4 0 6 ... 3 6 2]\n",
      "0.6807457627118644\n",
      "Iteration:  160\n",
      "[4 0 6 ... 3 6 8] [4 0 6 ... 3 6 2]\n",
      "0.6943050847457627\n",
      "Iteration:  170\n",
      "[4 0 6 ... 3 6 8] [4 0 6 ... 3 6 2]\n",
      "0.7073728813559322\n",
      "Iteration:  180\n",
      "[4 0 6 ... 3 6 8] [4 0 6 ... 3 6 2]\n",
      "0.7198813559322034\n",
      "Iteration:  190\n",
      "[4 0 6 ... 3 6 8] [4 0 6 ... 3 6 2]\n",
      "0.7299491525423729\n",
      "Iteration:  200\n",
      "[4 0 6 ... 3 6 8] [4 0 6 ... 3 6 2]\n",
      "0.7401864406779661\n",
      "Iteration:  210\n",
      "[4 0 6 ... 3 6 8] [4 0 6 ... 3 6 2]\n",
      "0.7486779661016949\n",
      "Iteration:  220\n",
      "[4 0 6 ... 3 6 8] [4 0 6 ... 3 6 2]\n",
      "0.7565762711864407\n",
      "Iteration:  230\n",
      "[4 0 6 ... 3 6 8] [4 0 6 ... 3 6 2]\n",
      "0.7630847457627119\n",
      "Iteration:  240\n",
      "[4 0 6 ... 3 6 8] [4 0 6 ... 3 6 2]\n",
      "0.7703220338983051\n",
      "Iteration:  250\n",
      "[4 0 6 ... 3 6 8] [4 0 6 ... 3 6 2]\n",
      "0.7763898305084745\n",
      "Iteration:  260\n",
      "[4 0 6 ... 3 6 8] [4 0 6 ... 3 6 2]\n",
      "0.7823898305084745\n",
      "Iteration:  270\n",
      "[4 0 6 ... 3 6 8] [4 0 6 ... 3 6 2]\n",
      "0.7873389830508475\n",
      "Iteration:  280\n",
      "[4 0 6 ... 3 6 8] [4 0 6 ... 3 6 2]\n",
      "0.7926610169491526\n",
      "Iteration:  290\n",
      "[4 0 6 ... 3 6 8] [4 0 6 ... 3 6 2]\n",
      "0.797593220338983\n",
      "Iteration:  300\n",
      "[4 0 6 ... 3 6 8] [4 0 6 ... 3 6 2]\n",
      "0.8013898305084746\n",
      "Iteration:  310\n",
      "[4 0 6 ... 3 6 8] [4 0 6 ... 3 6 2]\n",
      "0.805135593220339\n",
      "Iteration:  320\n",
      "[4 0 6 ... 3 6 8] [4 0 6 ... 3 6 2]\n",
      "0.8084915254237288\n",
      "Iteration:  330\n",
      "[4 0 6 ... 3 6 8] [4 0 6 ... 3 6 2]\n",
      "0.8115254237288135\n",
      "Iteration:  340\n",
      "[4 0 6 ... 3 6 8] [4 0 6 ... 3 6 2]\n",
      "0.8144067796610169\n",
      "Iteration:  350\n",
      "[4 0 6 ... 3 6 8] [4 0 6 ... 3 6 2]\n",
      "0.8169830508474576\n",
      "Iteration:  360\n",
      "[4 0 6 ... 3 6 8] [4 0 6 ... 3 6 2]\n",
      "0.819728813559322\n",
      "Iteration:  370\n",
      "[4 0 6 ... 3 6 8] [4 0 6 ... 3 6 2]\n",
      "0.8222372881355933\n",
      "Iteration:  380\n",
      "[4 0 6 ... 3 6 8] [4 0 6 ... 3 6 2]\n",
      "0.8247118644067797\n",
      "Iteration:  390\n",
      "[4 0 6 ... 3 6 8] [4 0 6 ... 3 6 2]\n",
      "0.8269322033898305\n",
      "Iteration:  400\n",
      "[4 0 6 ... 3 6 8] [4 0 6 ... 3 6 2]\n",
      "0.8289491525423729\n",
      "Iteration:  410\n",
      "[4 0 6 ... 3 6 8] [4 0 6 ... 3 6 2]\n",
      "0.8308135593220339\n",
      "Iteration:  420\n",
      "[4 0 6 ... 3 6 8] [4 0 6 ... 3 6 2]\n",
      "0.8327966101694916\n",
      "Iteration:  430\n",
      "[4 0 6 ... 3 6 8] [4 0 6 ... 3 6 2]\n",
      "0.8343220338983051\n",
      "Iteration:  440\n",
      "[4 0 6 ... 3 6 8] [4 0 6 ... 3 6 2]\n",
      "0.8360508474576271\n",
      "Iteration:  450\n",
      "[4 0 6 ... 3 6 8] [4 0 6 ... 3 6 2]\n",
      "0.8380169491525423\n",
      "Iteration:  460\n",
      "[4 0 6 ... 3 6 8] [4 0 6 ... 3 6 2]\n",
      "0.8395423728813559\n",
      "Iteration:  470\n",
      "[4 0 6 ... 3 6 8] [4 0 6 ... 3 6 2]\n",
      "0.841406779661017\n",
      "Iteration:  480\n",
      "[4 0 6 ... 3 6 8] [4 0 6 ... 3 6 2]\n",
      "0.842864406779661\n",
      "Iteration:  490\n",
      "[4 0 6 ... 3 6 8] [4 0 6 ... 3 6 2]\n",
      "0.8443728813559322\n"
     ]
    }
   ],
   "source": [
    "W1, b1, W2, b2 = gradient_descent(X_train, Y_train, 0.10, 500)"
   ]
  },
  {
   "cell_type": "code",
   "execution_count": 187,
   "id": "a4870f99",
   "metadata": {},
   "outputs": [],
   "source": [
    "def make_predictions(X, W1, b1, W2, b2):\n",
    "    _, _, _, A2 = forward_prop(W1, b1, W2, b2, X)\n",
    "    predictions = get_predictions(A2)\n",
    "    return predictions\n",
    "\n",
    "def test_prediction(index, W1, b1, W2, b2):\n",
    "    current_image = X_train[:, index, None]\n",
    "    prediction = make_predictions(X_train[:, index, None], W1, b1, W2, b2)\n",
    "    label = Y_train[index]\n",
    "    print(\"Prediction: \", prediction)\n",
    "    print(\"Label: \", label)\n",
    "    \n",
    "    current_image = current_image.reshape((28, 28)) * 255\n",
    "    plt.gray()\n",
    "    plt.imshow(current_image, interpolation='nearest')\n",
    "    plt.show()"
   ]
  },
  {
   "cell_type": "code",
   "execution_count": 190,
   "id": "25249bf1",
   "metadata": {},
   "outputs": [
    {
     "name": "stdout",
     "output_type": "stream",
     "text": [
      "Prediction:  [4]\n",
      "Label:  4\n"
     ]
    },
    {
     "data": {
      "image/png": "[encoded data removed]",
      "text/plain": [
       "<Figure size 640x480 with 1 Axes>"
      ]
     },
     "metadata": {},
     "output_type": "display_data"
    },
    {
     "name": "stdout",
     "output_type": "stream",
     "text": [
      "Prediction:  [0]\n",
      "Label:  0\n"
     ]
    },
    {
     "data": {
      "image/png": "[encoded data removed]",
      "text/plain": [
       "<Figure size 640x480 with 1 Axes>"
      ]
     },
     "metadata": {},
     "output_type": "display_data"
    },
    {
     "name": "stdout",
     "output_type": "stream",
     "text": [
      "Prediction:  [6]\n",
      "Label:  6\n"
     ]
    },
    {
     "data": {
      "image/png": "[encoded data removed]",
      "text/plain": [
       "<Figure size 640x480 with 1 Axes>"
      ]
     },
     "metadata": {},
     "output_type": "display_data"
    },
    {
     "name": "stdout",
     "output_type": "stream",
     "text": [
      "Prediction:  [0]\n",
      "Label:  6\n"
     ]
    },
    {
     "data": {
      "image/png": "[encoded data removed]",
      "text/plain": [
       "<Figure size 640x480 with 1 Axes>"
      ]
     },
     "metadata": {},
     "output_type": "display_data"
    }
   ],
   "source": [
    "test_prediction(0, W1, b1, W2, b2)\n",
    "test_prediction(1, W1, b1, W2, b2)\n",
    "test_prediction(2, W1, b1, W2, b2)\n",
    "test_prediction(3, W1, b1, W2, b2)"
   ]
  },
  {
   "cell_type": "code",
   "execution_count": 191,
   "id": "444a6e4c",
   "metadata": {},
   "outputs": [
    {
     "name": "stdout",
     "output_type": "stream",
     "text": [
      "[2 0 2 1 2 3 9 2 7 1 8 3 5 0 3 1 2 6 1 9 5 2 4 5 7 9 1 2 8 5 5 4 7 2 5 4 9\n",
      " 6 7 3 1 7 4 7 2 2 1 2 2 8 1 2 7 3 1 5 1 7 9 9 0 5 6 2 7 5 8 0 9 2 9 8 5 4\n",
      " 8 0 3 0 1 7 2 4 7 1 7 7 6 1 4 5 4 1 8 2 8 4 0 0 8 1 1 6 5 3 5 9 4 0 0 0 9\n",
      " 6 4 5 3 8 7 6 6 1 2 5 4 4 1 3 8 2 9 8 3 1 6 7 7 6 5 6 5 4 3 1 3 2 4 8 3 3\n",
      " 8 9 9 9 6 2 4 7 8 6 0 2 0 8 1 5 8 8 7 0 6 5 0 8 7 1 0 3 2 6 7 3 6 7 4 8 4\n",
      " 9 3 5 0 2 8 2 8 6 7 1 5 9 4 4 1 8 1 2 0 7 7 7 7 2 2 3 0 6 8 4 4 2 1 7 3 9\n",
      " 1 5 6 9 8 9 9 6 1 6 0 1 4 2 3 5 8 9 1 3 4 0 7 1 7 6 4 3 8 3 2 1 2 1 0 4 3\n",
      " 8 7 5 9 7 1 7 1 5 5 2 8 7 1 3 9 0 8 4 1 2 9 8 3 4 2 5 7 1 2 7 2 1 3 6 4 2\n",
      " 0 3 8 9 0 4 5 0 3 6 4 9 9 4 2 5 8 8 9 7 6 8 1 7 3 8 4 8 0 3 0 9 1 4 2 3 6\n",
      " 9 8 7 1 9 7 6 4 3 6 2 6 2 6 5 1 8 0 0 6 0 9 5 5 5 0 8 1 4 3 9 3 7 2 1 1 9\n",
      " 2 3 0 3 0 8 0 7 5 1 4 1 7 4 0 0 2 2 6 7 6 3 4 5 3 3 2 1 3 3 6 6 9 1 8 4 2\n",
      " 2 8 9 2 9 8 4 1 8 3 1 5 5 6 9 7 4 7 5 6 2 9 3 7 9 5 4 1 4 3 2 6 8 7 3 9 4\n",
      " 1 2 0 0 5 3 8 1 0 4 9 2 8 2 1 4 7 3 2 2 1 2 2 1 3 4 2 1 6 3 4 1 1 2 3 4 8\n",
      " 4 3 0 6 2 2 3 5 3 1 4 8 2 1 7 4 6 1 9 8 5 5 5 7 9 4 5 3 9 4 9 6 0 2 7 9 9\n",
      " 9 2 5 2 2 3 3 4 0 2 9 8 2 8 2 4 0 7 2 8 5 8 1 4 4 4 6 4 2 8 6 8 4 9 9 9 2\n",
      " 6 6 4 2 2 4 5 4 1 7 5 0 3 5 5 3 0 7 3 7 7 1 5 3 6 3 2 0 7 2 5 6 5 1 1 7 2\n",
      " 7 1 6 8 6 9 1 7 8 9 1 5 9 4 7 0 0 8 7 4 0 7 5 8 5 0 8 8 7 6 6 1 3 5 9 6 8\n",
      " 2 1 0 6 6 2 0 9 3 0 8 1 8 1 2 9 0 3 5 2 2 5 0 1 1 8 3 4 2 9 4 5 1 2 6 7 9\n",
      " 5 8 1 7 3 9 1 3 6 7 8 1 1 0 4 9 2 9 9 4 7 6 1 5 1 8 5 0 7 7 7 4 2 1 6 6 8\n",
      " 3 9 4 5 0 6 3 9 6 6 8 7 9 3 6 6 5 7 4 1 5 6 2 6 9 9 0 9 5 9 4 4 1 0 1 9 1\n",
      " 8 9 5 8 0 5 2 9 8 5 9 7 8 7 9 2 1 1 9 7 3 0 2 0 0 1 3 1 7 1 8 0 4 7 3 5 1\n",
      " 3 2 5 6 1 0 8 2 8 9 1 2 7 2 1 0 1 0 3 7 3 8 0 3 0 4 1 5 9 3 2 7 3 0 9 4 9\n",
      " 8 0 6 6 7 0 7 5 6 3 4 3 5 8 9 1 6 3 2 9 8 2 1 0 2 8 4 7 8 1 5 3 3 1 2 4 8\n",
      " 6 1 7 3 8 7 1 6 6 5 4 4 1 6 3 0 4 8 4 5 6 0 3 5 3 5 6 8 8 9 4 6 1 3 3 8 3\n",
      " 4 4 6 1 9 1 5 6 4 9 7 9 6 0 1 4 4 4 1 3 3 8 4 6 1 5 4 4 9 7 6 3 7 1 0 4 8\n",
      " 6 6 0 8 2 8 2 8 7 8 7 4 3 1 9 6 9 1 1 4 7 0 0 4 2 1 4 3 4 2 4 9 3 0 5 8 1\n",
      " 6 6 7 7 8 8 1 9 1 2 9 4 9 8 0 2 1 3 9 9 7 6 7 6 7 8 9 7 2 0 8 6 3 1 0 6 9\n",
      " 4] [2 0 2 7 2 3 7 2 7 2 2 2 5 0 3 1 2 2 1 9 5 2 4 5 7 9 1 2 8 5 5 2 2 2 5 4 9\n",
      " 6 7 3 8 7 4 7 2 2 1 7 3 4 1 2 7 3 5 5 1 7 9 3 0 5 6 2 7 5 8 0 9 2 9 8 5 4\n",
      " 8 0 3 0 1 7 2 4 7 1 7 7 6 1 4 5 4 1 8 2 8 4 0 0 8 1 1 6 5 3 5 9 4 0 0 2 5\n",
      " 4 4 5 3 5 7 6 6 1 5 5 8 4 1 3 8 2 9 8 3 8 2 7 7 6 5 6 5 4 5 1 3 9 4 8 3 3\n",
      " 8 2 9 9 4 2 4 7 8 6 0 2 0 8 1 5 9 8 7 0 6 5 0 8 7 1 0 3 2 6 7 8 6 7 4 8 4\n",
      " 9 3 5 0 7 8 2 8 6 7 1 5 9 4 9 1 8 1 2 0 7 8 7 7 2 2 3 0 6 8 4 4 3 1 7 8 4\n",
      " 1 5 6 4 8 9 9 6 1 4 0 1 9 2 3 5 8 9 1 3 4 0 7 8 7 6 4 3 8 3 2 1 4 1 0 4 3\n",
      " 8 7 5 9 7 1 7 1 5 5 2 8 7 1 3 9 0 8 9 1 2 9 8 7 4 2 5 7 1 2 7 2 1 3 6 4 2\n",
      " 0 3 8 9 0 4 0 0 3 6 4 9 9 4 2 5 8 3 9 3 6 8 1 7 3 8 4 8 0 3 0 9 1 4 2 3 6\n",
      " 9 8 7 1 9 7 6 4 3 4 2 6 2 6 5 1 8 0 0 6 0 2 3 5 5 0 3 1 6 3 8 3 5 2 1 1 9\n",
      " 2 3 0 3 0 8 0 2 5 1 4 1 7 4 0 2 2 2 6 7 6 2 9 5 9 3 2 1 5 3 6 6 9 1 8 4 7\n",
      " 2 8 4 0 9 8 4 1 8 3 1 5 0 6 9 7 4 7 5 6 2 9 5 7 9 5 4 1 8 5 2 6 8 7 9 9 4\n",
      " 9 2 0 0 3 8 8 1 0 4 9 2 3 2 1 4 7 1 2 6 8 2 2 1 3 4 2 1 6 3 4 1 1 2 3 4 8\n",
      " 4 3 7 6 2 2 3 5 3 1 9 5 2 3 7 4 6 1 9 2 5 2 5 7 9 4 5 3 9 4 7 6 0 2 7 9 4\n",
      " 9 2 5 2 2 3 5 4 3 2 9 8 2 8 2 4 0 7 2 5 5 8 1 4 4 4 6 2 2 8 5 8 4 9 9 4 2\n",
      " 6 6 4 7 2 4 5 7 1 7 5 0 3 5 6 3 5 7 8 5 7 1 5 3 6 3 2 0 9 2 5 6 5 1 1 7 2\n",
      " 7 1 6 8 6 8 1 7 8 9 1 5 9 4 7 0 0 8 7 4 7 7 5 8 5 0 8 8 7 6 6 1 3 5 7 2 3\n",
      " 2 1 0 4 6 3 0 9 3 0 8 1 8 1 7 9 0 9 3 2 2 5 0 1 1 8 3 4 2 3 4 5 1 2 4 3 4\n",
      " 5 4 1 7 3 9 1 3 6 7 8 1 1 0 4 7 2 7 9 4 9 6 1 5 1 4 5 0 7 7 7 4 2 1 6 6 5\n",
      " 3 8 4 5 0 6 3 9 6 6 8 7 4 3 5 6 5 7 9 1 6 6 2 6 9 9 0 4 5 9 9 4 1 0 1 9 1\n",
      " 8 9 5 8 0 6 2 9 8 5 9 7 8 7 9 2 1 1 9 7 3 0 2 0 0 1 3 1 7 5 8 0 2 7 3 5 1\n",
      " 3 2 3 6 1 0 0 2 8 9 1 2 7 6 1 0 1 0 5 7 3 8 0 3 0 4 1 5 9 3 2 7 3 0 9 4 9\n",
      " 8 0 6 6 7 0 7 5 6 3 7 3 5 8 9 1 6 3 2 8 9 2 1 0 2 8 4 7 8 1 5 3 3 1 2 4 8\n",
      " 6 1 9 3 2 7 1 5 6 5 4 4 1 6 3 0 4 8 9 5 6 0 3 5 3 5 6 2 8 9 4 6 1 3 3 8 3\n",
      " 4 4 6 1 9 1 9 6 4 9 7 9 6 0 2 4 4 4 1 3 3 8 4 6 1 5 9 4 9 7 6 1 7 1 0 4 8\n",
      " 5 6 0 8 2 8 2 8 7 8 7 4 3 1 9 6 9 1 1 2 7 0 0 4 2 1 4 3 4 2 4 9 8 0 5 5 1\n",
      " 6 6 7 7 8 8 1 9 1 2 9 4 9 8 0 2 1 7 9 9 7 6 7 6 7 8 9 7 2 0 8 6 3 1 0 6 9\n",
      " 6]\n"
     ]
    },
    {
     "data": {
      "text/plain": [
       "np.float64(0.855)"
      ]
     },
     "execution_count": 191,
     "metadata": {},
     "output_type": "execute_result"
    }
   ],
   "source": [
    "dev_predictions = make_predictions(X_dev, W1, b1, W2, b2)\n",
    "get_accuracy(dev_predictions, Y_dev)"
   ]
  },
  {
   "cell_type": "code",
   "execution_count": null,
   "id": "f3b3bb3d",
   "metadata": {},
   "outputs": [],
   "source": []
  }
 ],
 "metadata": {
  "kernelspec": {
   "display_name": "venv",
   "language": "python",
   "name": "python3"
  },
  "language_info": {
   "codemirror_mode": {
    "name": "ipython",
    "version": 3
   },
   "file_extension": ".py",
   "mimetype": "text/x-python",
   "name": "python",
   "nbconvert_exporter": "python",
   "pygments_lexer": "ipython3",
   "version": "3.11.0"
  }
 },
 "nbformat": 4,
 "nbformat_minor": 5
}
